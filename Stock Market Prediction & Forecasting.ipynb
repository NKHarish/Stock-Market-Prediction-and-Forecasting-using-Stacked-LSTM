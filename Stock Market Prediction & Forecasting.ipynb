{
 "cells": [
  {
   "cell_type": "markdown",
   "id": "99a68bdf",
   "metadata": {},
   "source": [
    "# Stock Market Prediction & Forecasting using Stacked LSTM¶"
   ]
  },
  {
   "cell_type": "code",
   "execution_count": 1,
   "id": "fe654d2f",
   "metadata": {},
   "outputs": [],
   "source": [
    "import warnings\n",
    "warnings.filterwarnings(\"ignore\")\n",
    "import numpy as np\n",
    "import pandas as pd\n",
    "import matplotlib.pyplot as plt\n",
    "from sklearn.preprocessing import MinMaxScaler\n",
    "from sklearn.metrics import mean_squared_error, r2_score, mean_absolute_error\n",
    "from sklearn.model_selection import train_test_split\n",
    "from keras import callbacks\n",
    "from keras.models import Sequential\n",
    "from keras.layers import Dense\n",
    "from keras.layers import LSTM\n",
    "from numpy import array"
   ]
  },
  {
   "cell_type": "code",
   "execution_count": 3,
   "id": "a8c7e3ba",
   "metadata": {},
   "outputs": [
    {
     "data": {
      "text/html": [
       "<div>\n",
       "<style scoped>\n",
       "    .dataframe tbody tr th:only-of-type {\n",
       "        vertical-align: middle;\n",
       "    }\n",
       "\n",
       "    .dataframe tbody tr th {\n",
       "        vertical-align: top;\n",
       "    }\n",
       "\n",
       "    .dataframe thead th {\n",
       "        text-align: right;\n",
       "    }\n",
       "</style>\n",
       "<table border=\"1\" class=\"dataframe\">\n",
       "  <thead>\n",
       "    <tr style=\"text-align: right;\">\n",
       "      <th></th>\n",
       "      <th>Date</th>\n",
       "      <th>Open</th>\n",
       "      <th>High</th>\n",
       "      <th>Low</th>\n",
       "      <th>Last</th>\n",
       "      <th>Close</th>\n",
       "      <th>Total Trade Quantity</th>\n",
       "      <th>Turnover (Lacs)</th>\n",
       "    </tr>\n",
       "  </thead>\n",
       "  <tbody>\n",
       "    <tr>\n",
       "      <th>0</th>\n",
       "      <td>2018-09-28</td>\n",
       "      <td>234.05</td>\n",
       "      <td>235.95</td>\n",
       "      <td>230.20</td>\n",
       "      <td>233.50</td>\n",
       "      <td>233.75</td>\n",
       "      <td>3069914</td>\n",
       "      <td>7162.35</td>\n",
       "    </tr>\n",
       "    <tr>\n",
       "      <th>1</th>\n",
       "      <td>2018-09-27</td>\n",
       "      <td>234.55</td>\n",
       "      <td>236.80</td>\n",
       "      <td>231.10</td>\n",
       "      <td>233.80</td>\n",
       "      <td>233.25</td>\n",
       "      <td>5082859</td>\n",
       "      <td>11859.95</td>\n",
       "    </tr>\n",
       "    <tr>\n",
       "      <th>2</th>\n",
       "      <td>2018-09-26</td>\n",
       "      <td>240.00</td>\n",
       "      <td>240.00</td>\n",
       "      <td>232.50</td>\n",
       "      <td>235.00</td>\n",
       "      <td>234.25</td>\n",
       "      <td>2240909</td>\n",
       "      <td>5248.60</td>\n",
       "    </tr>\n",
       "    <tr>\n",
       "      <th>3</th>\n",
       "      <td>2018-09-25</td>\n",
       "      <td>233.30</td>\n",
       "      <td>236.75</td>\n",
       "      <td>232.00</td>\n",
       "      <td>236.25</td>\n",
       "      <td>236.10</td>\n",
       "      <td>2349368</td>\n",
       "      <td>5503.90</td>\n",
       "    </tr>\n",
       "    <tr>\n",
       "      <th>4</th>\n",
       "      <td>2018-09-24</td>\n",
       "      <td>233.55</td>\n",
       "      <td>239.20</td>\n",
       "      <td>230.75</td>\n",
       "      <td>234.00</td>\n",
       "      <td>233.30</td>\n",
       "      <td>3423509</td>\n",
       "      <td>7999.55</td>\n",
       "    </tr>\n",
       "  </tbody>\n",
       "</table>\n",
       "</div>"
      ],
      "text/plain": [
       "         Date    Open    High     Low    Last   Close  Total Trade Quantity  \\\n",
       "0  2018-09-28  234.05  235.95  230.20  233.50  233.75               3069914   \n",
       "1  2018-09-27  234.55  236.80  231.10  233.80  233.25               5082859   \n",
       "2  2018-09-26  240.00  240.00  232.50  235.00  234.25               2240909   \n",
       "3  2018-09-25  233.30  236.75  232.00  236.25  236.10               2349368   \n",
       "4  2018-09-24  233.55  239.20  230.75  234.00  233.30               3423509   \n",
       "\n",
       "   Turnover (Lacs)  \n",
       "0          7162.35  \n",
       "1         11859.95  \n",
       "2          5248.60  \n",
       "3          5503.90  \n",
       "4          7999.55  "
      ]
     },
     "execution_count": 3,
     "metadata": {},
     "output_type": "execute_result"
    }
   ],
   "source": [
    "data = pd.read_csv(\"Stock_data.csv\")\n",
    "data.head()"
   ]
  },
  {
   "cell_type": "code",
   "execution_count": 4,
   "id": "cfa61ef8",
   "metadata": {},
   "outputs": [
    {
     "data": {
      "text/plain": [
       "[<matplotlib.lines.Line2D at 0x1a34c8bbe80>]"
      ]
     },
     "execution_count": 4,
     "metadata": {},
     "output_type": "execute_result"
    },
    {
     "data": {
      "image/png": "[encoded data removed]",
      "text/plain": [
       "<Figure size 432x288 with 1 Axes>"
      ]
     },
     "metadata": {
      "needs_background": "light"
     },
     "output_type": "display_data"
    }
   ],
   "source": [
    "temp = data.reset_index()['Close']\n",
    "plt.plot(temp)"
   ]
  },
  {
   "cell_type": "markdown",
   "id": "b8b197d5",
   "metadata": {},
   "source": [
    "# Data Transformation using Min-Max-Scaler"
   ]
  },
  {
   "cell_type": "code",
   "execution_count": 5,
   "id": "0676df87",
   "metadata": {},
   "outputs": [
    {
     "data": {
      "text/html": [
       "<div>\n",
       "<style scoped>\n",
       "    .dataframe tbody tr th:only-of-type {\n",
       "        vertical-align: middle;\n",
       "    }\n",
       "\n",
       "    .dataframe tbody tr th {\n",
       "        vertical-align: top;\n",
       "    }\n",
       "\n",
       "    .dataframe thead th {\n",
       "        text-align: right;\n",
       "    }\n",
       "</style>\n",
       "<table border=\"1\" class=\"dataframe\">\n",
       "  <thead>\n",
       "    <tr style=\"text-align: right;\">\n",
       "      <th></th>\n",
       "      <th>Date</th>\n",
       "      <th>Open</th>\n",
       "      <th>High</th>\n",
       "      <th>Low</th>\n",
       "      <th>Last</th>\n",
       "      <th>Close</th>\n",
       "      <th>Total Trade Quantity</th>\n",
       "      <th>Turnover (Lacs)</th>\n",
       "    </tr>\n",
       "  </thead>\n",
       "  <tbody>\n",
       "    <tr>\n",
       "      <th>0</th>\n",
       "      <td>2018-09-28</td>\n",
       "      <td>234.05</td>\n",
       "      <td>235.95</td>\n",
       "      <td>230.20</td>\n",
       "      <td>233.50</td>\n",
       "      <td>233.75</td>\n",
       "      <td>3069914</td>\n",
       "      <td>7162.35</td>\n",
       "    </tr>\n",
       "    <tr>\n",
       "      <th>1</th>\n",
       "      <td>2018-09-27</td>\n",
       "      <td>234.55</td>\n",
       "      <td>236.80</td>\n",
       "      <td>231.10</td>\n",
       "      <td>233.80</td>\n",
       "      <td>233.25</td>\n",
       "      <td>5082859</td>\n",
       "      <td>11859.95</td>\n",
       "    </tr>\n",
       "    <tr>\n",
       "      <th>2</th>\n",
       "      <td>2018-09-26</td>\n",
       "      <td>240.00</td>\n",
       "      <td>240.00</td>\n",
       "      <td>232.50</td>\n",
       "      <td>235.00</td>\n",
       "      <td>234.25</td>\n",
       "      <td>2240909</td>\n",
       "      <td>5248.60</td>\n",
       "    </tr>\n",
       "    <tr>\n",
       "      <th>3</th>\n",
       "      <td>2018-09-25</td>\n",
       "      <td>233.30</td>\n",
       "      <td>236.75</td>\n",
       "      <td>232.00</td>\n",
       "      <td>236.25</td>\n",
       "      <td>236.10</td>\n",
       "      <td>2349368</td>\n",
       "      <td>5503.90</td>\n",
       "    </tr>\n",
       "    <tr>\n",
       "      <th>4</th>\n",
       "      <td>2018-09-24</td>\n",
       "      <td>233.55</td>\n",
       "      <td>239.20</td>\n",
       "      <td>230.75</td>\n",
       "      <td>234.00</td>\n",
       "      <td>233.30</td>\n",
       "      <td>3423509</td>\n",
       "      <td>7999.55</td>\n",
       "    </tr>\n",
       "  </tbody>\n",
       "</table>\n",
       "</div>"
      ],
      "text/plain": [
       "         Date    Open    High     Low    Last   Close  Total Trade Quantity  \\\n",
       "0  2018-09-28  234.05  235.95  230.20  233.50  233.75               3069914   \n",
       "1  2018-09-27  234.55  236.80  231.10  233.80  233.25               5082859   \n",
       "2  2018-09-26  240.00  240.00  232.50  235.00  234.25               2240909   \n",
       "3  2018-09-25  233.30  236.75  232.00  236.25  236.10               2349368   \n",
       "4  2018-09-24  233.55  239.20  230.75  234.00  233.30               3423509   \n",
       "\n",
       "   Turnover (Lacs)  \n",
       "0          7162.35  \n",
       "1         11859.95  \n",
       "2          5248.60  \n",
       "3          5503.90  \n",
       "4          7999.55  "
      ]
     },
     "execution_count": 5,
     "metadata": {},
     "output_type": "execute_result"
    }
   ],
   "source": [
    "data.head()"
   ]
  },
  {
   "cell_type": "code",
   "execution_count": 6,
   "id": "b9e20c6b",
   "metadata": {},
   "outputs": [
    {
     "data": {
      "text/plain": [
       "(2035,)"
      ]
     },
     "execution_count": 6,
     "metadata": {},
     "output_type": "execute_result"
    }
   ],
   "source": [
    "temp.shape"
   ]
  },
  {
   "cell_type": "code",
   "execution_count": 7,
   "id": "deaac0e4",
   "metadata": {},
   "outputs": [],
   "source": [
    "scaler = MinMaxScaler(feature_range=(0,1))\n",
    "temp = scaler.fit_transform(np.array(temp).reshape(-1,1))"
   ]
  },
  {
   "cell_type": "code",
   "execution_count": 8,
   "id": "78580580",
   "metadata": {},
   "outputs": [
    {
     "data": {
      "text/plain": [
       "(2035, 1)"
      ]
     },
     "execution_count": 8,
     "metadata": {},
     "output_type": "execute_result"
    }
   ],
   "source": [
    "temp.shape"
   ]
  },
  {
   "cell_type": "markdown",
   "id": "1440b01c",
   "metadata": {},
   "source": [
    "# Train Test Split"
   ]
  },
  {
   "cell_type": "code",
   "execution_count": 9,
   "id": "e96a91f5",
   "metadata": {},
   "outputs": [],
   "source": [
    "# Doing train test split (70-30) sequencially \n",
    "data = data.sort_values(by=\"Date\")\n",
    "ntrain = int(len(temp)*0.7)\n",
    "train, test = temp[0:ntrain,:], temp[ntrain:len(temp),:1]\n",
    "\n",
    "# Convert array of values to dataset matrix\n",
    "def dataset(df,time_step=1):\n",
    "    dx,dy = [],[]\n",
    "    for i in range(len(df)-time_step-1):\n",
    "        dx.append(df[i:(i+time_step),0])\n",
    "        dy.append(df[i+time_step,0])\n",
    "    return np.array(dx),np.array(dy)"
   ]
  },
  {
   "cell_type": "code",
   "execution_count": 10,
   "id": "76553000",
   "metadata": {},
   "outputs": [
    {
     "name": "stdout",
     "output_type": "stream",
     "text": [
      "(1373, 50) (560, 50)\n",
      "(1373,) (560,)\n"
     ]
    }
   ],
   "source": [
    "# Reshaping the Dataset in 3 parts\n",
    "time_step = 50\n",
    "x_train, y_train = dataset(train,time_step)\n",
    "x_test, y_test = dataset(test,time_step)\n",
    "\n",
    "# Checking the Shape\n",
    "print(x_train.shape,x_test.shape)\n",
    "print(y_train.shape,y_test.shape)"
   ]
  },
  {
   "cell_type": "code",
   "execution_count": 11,
   "id": "9e9b8a7f",
   "metadata": {},
   "outputs": [
    {
     "name": "stdout",
     "output_type": "stream",
     "text": [
      "(1373, 50, 1) (560, 50, 1)\n",
      "(1373,) (560,)\n"
     ]
    }
   ],
   "source": [
    "# Reshaping the data to numpy array as per requirement for LSTM\n",
    "x_train = x_train.reshape(x_train.shape[0],x_train.shape[1],1)\n",
    "x_test = x_test.reshape(x_test.shape[0],x_test.shape[1],1)\n",
    "\n",
    "# Checking the Shape\n",
    "print(x_train.shape,x_test.shape)\n",
    "print(y_train.shape,y_test.shape)"
   ]
  },
  {
   "cell_type": "markdown",
   "id": "ea3d32fb",
   "metadata": {},
   "source": [
    "# Applying LSTM Model"
   ]
  },
  {
   "cell_type": "code",
   "execution_count": 12,
   "id": "8a5a9ab8",
   "metadata": {},
   "outputs": [],
   "source": [
    "model = Sequential()\n",
    "model.add(LSTM(64,return_sequences = True,input_shape = (50,1)))\n",
    "model.add(LSTM(32))\n",
    "model.add(Dense(16,activation='relu'))\n",
    "model.add(Dense(1))"
   ]
  },
  {
   "cell_type": "code",
   "execution_count": 13,
   "id": "686d68e2",
   "metadata": {},
   "outputs": [
    {
     "name": "stdout",
     "output_type": "stream",
     "text": [
      "Model: \"sequential\"\n",
      "_________________________________________________________________\n",
      " Layer (type)                Output Shape              Param #   \n",
      "=================================================================\n",
      " lstm (LSTM)                 (None, 50, 64)            16896     \n",
      "                                                                 \n",
      " lstm_1 (LSTM)               (None, 32)                12416     \n",
      "                                                                 \n",
      " dense (Dense)               (None, 16)                528       \n",
      "                                                                 \n",
      " dense_1 (Dense)             (None, 1)                 17        \n",
      "                                                                 \n",
      "=================================================================\n",
      "Total params: 29,857\n",
      "Trainable params: 29,857\n",
      "Non-trainable params: 0\n",
      "_________________________________________________________________\n"
     ]
    }
   ],
   "source": [
    "model.summary()\n",
    "model.compile(loss='mse',optimizer='adam')"
   ]
  },
  {
   "cell_type": "code",
   "execution_count": 14,
   "id": "d6521418",
   "metadata": {},
   "outputs": [
    {
     "name": "stdout",
     "output_type": "stream",
     "text": [
      "Epoch 1/15\n",
      "43/43 [==============================] - 17s 122ms/step - loss: 0.0397 - val_loss: 0.0016\n",
      "Epoch 2/15\n",
      "43/43 [==============================] - 3s 62ms/step - loss: 0.0017 - val_loss: 0.0012\n",
      "Epoch 3/15\n",
      "43/43 [==============================] - 3s 62ms/step - loss: 0.0014 - val_loss: 0.0012\n",
      "Epoch 4/15\n",
      "43/43 [==============================] - 3s 62ms/step - loss: 0.0013 - val_loss: 9.0464e-04\n",
      "Epoch 5/15\n",
      "43/43 [==============================] - 3s 63ms/step - loss: 0.0013 - val_loss: 0.0012\n",
      "Epoch 6/15\n",
      "43/43 [==============================] - 3s 63ms/step - loss: 0.0013 - val_loss: 8.0540e-04\n",
      "Epoch 7/15\n",
      "43/43 [==============================] - 3s 62ms/step - loss: 0.0011 - val_loss: 7.3721e-04\n",
      "Epoch 8/15\n",
      "43/43 [==============================] - 3s 62ms/step - loss: 0.0010 - val_loss: 8.0047e-04\n",
      "Epoch 9/15\n",
      "43/43 [==============================] - 3s 62ms/step - loss: 9.9568e-04 - val_loss: 5.6472e-04\n",
      "Epoch 10/15\n",
      "43/43 [==============================] - 3s 61ms/step - loss: 9.2970e-04 - val_loss: 6.4627e-04\n",
      "Epoch 11/15\n",
      "43/43 [==============================] - 3s 62ms/step - loss: 9.5099e-04 - val_loss: 5.4871e-04\n",
      "Epoch 12/15\n",
      "43/43 [==============================] - 3s 62ms/step - loss: 0.0011 - val_loss: 5.6590e-04\n",
      "Epoch 13/15\n",
      "43/43 [==============================] - 3s 62ms/step - loss: 9.1871e-04 - val_loss: 7.7802e-04\n",
      "Epoch 14/15\n",
      "43/43 [==============================] - 3s 61ms/step - loss: 8.5092e-04 - val_loss: 4.4717e-04\n",
      "Epoch 15/15\n",
      "43/43 [==============================] - 3s 63ms/step - loss: 8.3796e-04 - val_loss: 9.3464e-04\n"
     ]
    },
    {
     "data": {
      "text/plain": [
       "<keras.callbacks.History at 0x1a34dbf7f10>"
      ]
     },
     "execution_count": 14,
     "metadata": {},
     "output_type": "execute_result"
    }
   ],
   "source": [
    "earlystopping = callbacks.EarlyStopping(monitor =\"val_loss\",mode =\"min\",patience = 3,restore_best_weights = True)\n",
    "model.fit(x_train,y_train,validation_data=(x_test,y_test),epochs = 15,batch_size = 32,verbose=1,callbacks =[earlystopping])"
   ]
  },
  {
   "cell_type": "markdown",
   "id": "4494e1f5",
   "metadata": {},
   "source": [
    "# Prediction on Test Data¶"
   ]
  },
  {
   "cell_type": "code",
   "execution_count": 15,
   "id": "4a979abc",
   "metadata": {},
   "outputs": [
    {
     "name": "stdout",
     "output_type": "stream",
     "text": [
      "43/43 [==============================] - 2s 21ms/step\n",
      "18/18 [==============================] - 0s 20ms/step\n"
     ]
    }
   ],
   "source": [
    "yp_train = model.predict(x_train)\n",
    "yp_test = model.predict(x_test)"
   ]
  },
  {
   "cell_type": "markdown",
   "id": "eb2ed5da",
   "metadata": {},
   "source": [
    "# Inverse Transformation"
   ]
  },
  {
   "cell_type": "code",
   "execution_count": 16,
   "id": "65e5fc27",
   "metadata": {},
   "outputs": [],
   "source": [
    "yp_train = scaler.inverse_transform(yp_train)\n",
    "yp_test = scaler.inverse_transform(yp_test)"
   ]
  },
  {
   "cell_type": "code",
   "execution_count": 17,
   "id": "ff46e4ea",
   "metadata": {},
   "outputs": [
    {
     "name": "stdout",
     "output_type": "stream",
     "text": [
      "(1373, 50, 1) (560, 50, 1)\n",
      "(1373,) (560,)\n",
      "(1373, 1) (560, 1)\n"
     ]
    }
   ],
   "source": [
    "print(x_train.shape,x_test.shape)\n",
    "print(y_train.shape,y_test.shape)\n",
    "print(yp_train.shape,yp_test.shape)"
   ]
  },
  {
   "cell_type": "markdown",
   "id": "bdaabaa3",
   "metadata": {},
   "source": [
    "# Evaluating the Model using metrics"
   ]
  },
  {
   "cell_type": "code",
   "execution_count": 18,
   "id": "562216d7",
   "metadata": {},
   "outputs": [
    {
     "name": "stdout",
     "output_type": "stream",
     "text": [
      "MAE for Train Data: 166.51307559464738\n",
      "MAE for Test Data: 113.90645946392269\n",
      "\n",
      "MSE for Train Data: 30110.228312500196\n",
      "MSE for Test Data: 13184.377200927544\n",
      "\n"
     ]
    }
   ],
   "source": [
    "# MAE\n",
    "print(\"MAE for Train Data: {}\".format(mean_absolute_error(y_train,yp_train)))\n",
    "print(\"MAE for Test Data: {}\\n\".format(mean_absolute_error(y_test,yp_test)))\n",
    "\n",
    "# MSE\n",
    "print(\"MSE for Train Data: {}\".format(mean_squared_error(y_train,yp_train)))\n",
    "print(\"MSE for Test Data: {}\\n\".format(mean_squared_error(y_test,yp_test)))"
   ]
  },
  {
   "cell_type": "markdown",
   "id": "85eea6de",
   "metadata": {},
   "source": [
    "# Plotting the Predicted Output"
   ]
  },
  {
   "cell_type": "code",
   "execution_count": 19,
   "id": "cbcbeb6a",
   "metadata": {},
   "outputs": [
    {
     "data": {
      "image/png": "[encoded data removed]",
      "text/plain": [
       "<Figure size 432x288 with 1 Axes>"
      ]
     },
     "metadata": {
      "needs_background": "light"
     },
     "output_type": "display_data"
    }
   ],
   "source": [
    "# Shifting train predictions for plotting\n",
    "look_back=50\n",
    "yp_train_plot = np.empty_like(temp)\n",
    "yp_train_plot[:,:] = np.nan\n",
    "yp_train_plot[look_back:len(yp_train)+look_back,:] = yp_train\n",
    "\n",
    "# Shifting test predictions for plotting\n",
    "yp_test_plot = np.empty_like(temp)\n",
    "yp_test_plot[:, :] = np.nan\n",
    "yp_test_plot[len(yp_train)+(look_back*2)+1:len(temp)-1,:] = yp_test\n",
    "\n",
    "# Plotting predictions\n",
    "plt.plot(scaler.inverse_transform(temp))\n",
    "plt.plot(yp_train_plot)\n",
    "plt.plot(yp_test_plot)\n",
    "plt.show()"
   ]
  },
  {
   "cell_type": "markdown",
   "id": "8cc18206",
   "metadata": {},
   "source": [
    "# Predicting & Forecasting for next 30 Days"
   ]
  },
  {
   "cell_type": "code",
   "execution_count": 20,
   "id": "3394f223",
   "metadata": {},
   "outputs": [],
   "source": [
    "x_input = test[(len(test)-50):].reshape(1,-1) # We take last 50 days data from test data for our future prediction \n",
    "temp_input = list(x_input)\n",
    "temp_input = temp_input[0].tolist() # Test data"
   ]
  },
  {
   "cell_type": "code",
   "execution_count": 21,
   "id": "f2dd3021",
   "metadata": {},
   "outputs": [
    {
     "name": "stdout",
     "output_type": "stream",
     "text": [
      "1 day output [[0.17196634]]\n",
      "2 day output [[0.17468643]]\n",
      "3 day output [[0.17745821]]\n",
      "4 day output [[0.18025896]]\n",
      "5 day output [[0.18307301]]\n",
      "6 day output [[0.18588972]]\n",
      "7 day output [[0.1887018]]\n",
      "8 day output [[0.19150445]]\n",
      "9 day output [[0.19429506]]\n",
      "10 day output [[0.19707185]]\n",
      "11 day output [[0.19983386]]\n",
      "12 day output [[0.2025807]]\n",
      "13 day output [[0.20531231]]\n",
      "14 day output [[0.20802894]]\n",
      "15 day output [[0.21073109]]\n",
      "16 day output [[0.21341908]]\n",
      "17 day output [[0.21609353]]\n",
      "18 day output [[0.21875489]]\n",
      "19 day output [[0.22140361]]\n",
      "20 day output [[0.22404024]]\n",
      "21 day output [[0.22666551]]\n",
      "22 day output [[0.22927989]]\n",
      "23 day output [[0.23188375]]\n",
      "24 day output [[0.23447776]]\n",
      "25 day output [[0.23706245]]\n",
      "26 day output [[0.23963845]]\n",
      "27 day output [[0.24220611]]\n",
      "28 day output [[0.24476631]]\n",
      "29 day output [[0.2473193]]\n"
     ]
    }
   ],
   "source": [
    "# Predictions for next 30 days\n",
    "\n",
    "lstm_op = []\n",
    "n_steps = 50\n",
    "i = 0\n",
    "while(i < 30):\n",
    "    if(len(temp_input)>50):\n",
    "        x_input=np.array(temp_input[1:])\n",
    "        \n",
    "        #print(\"{} day input {}\".format(i,x_input))\n",
    "        x_input=x_input.reshape(1,-1)\n",
    "        x_input = x_input.reshape((1, n_steps, 1))\n",
    "        \n",
    "        yp = model.predict(x_input, verbose=0)\n",
    "        print(\"{} day output {}\".format(i,yp))\n",
    "        \n",
    "        temp_input.extend(yp[0].tolist())\n",
    "        temp_input=temp_input[1:]\n",
    "        lstm_op.extend(yp.tolist())\n",
    "        i=i+1\n",
    "    else:\n",
    "        x_input = x_input.reshape((1,n_steps,1))\n",
    "        yp = model.predict(x_input,verbose=0)\n",
    "        \n",
    "        temp_input.extend(yp[0].tolist())\n",
    "        lstm_op.extend(yp.tolist())\n",
    "        i=i+1"
   ]
  },
  {
   "cell_type": "code",
   "execution_count": 22,
   "id": "c03329f0",
   "metadata": {},
   "outputs": [
    {
     "data": {
      "text/plain": [
       "[<matplotlib.lines.Line2D at 0x1a355999970>]"
      ]
     },
     "execution_count": 22,
     "metadata": {},
     "output_type": "execute_result"
    },
    {
     "data": {
      "image/png": "[encoded data removed]",
      "text/plain": [
       "<Figure size 432x288 with 1 Axes>"
      ]
     },
     "metadata": {
      "needs_background": "light"
     },
     "output_type": "display_data"
    }
   ],
   "source": [
    "day_new = np.arange(1,51)\n",
    "day_pred=np.arange(51,51+30)\n",
    "\n",
    "plt.plot(day_new,scaler.inverse_transform(temp[len(temp)-50:]))\n",
    "plt.plot(day_pred,scaler.inverse_transform(lstm_op))"
   ]
  },
  {
   "cell_type": "markdown",
   "id": "064dc05e",
   "metadata": {},
   "source": [
    "# Conclusion"
   ]
  },
  {
   "cell_type": "markdown",
   "id": "8aa74594",
   "metadata": {},
   "source": [
    "Used Stacked LSTM for Stock Market Prediction & Done Forecasting for next 30 days"
   ]
  },
  {
   "cell_type": "code",
   "execution_count": null,
   "id": "9e27e9d1",
   "metadata": {},
   "outputs": [],
   "source": []
  }
 ],
 "metadata": {
  "kernelspec": {
   "display_name": "Python 3 (ipykernel)",
   "language": "python",
   "name": "python3"
  },
  "language_info": {
   "codemirror_mode": {
    "name": "ipython",
    "version": 3
   },
   "file_extension": ".py",
   "mimetype": "text/x-python",
   "name": "python",
   "nbconvert_exporter": "python",
   "pygments_lexer": "ipython3",
   "version": "3.9.7"
  }
 },
 "nbformat": 4,
 "nbformat_minor": 5
}
